{
 "cells": [
  {
   "cell_type": "code",
   "execution_count": 471,
   "metadata": {},
   "outputs": [],
   "source": [
    "import numpy as np \n",
    "import pandas as pd\n",
    "import matplotlib.pyplot as plt \n",
    "import seaborn as sns\n",
    "from matplotlib import gridspec\n",
    "from sklearn.preprocessing import StandardScaler, RobustScaler"
   ]
  },
  {
   "cell_type": "markdown",
   "metadata": {},
   "source": [
    "# **Import and understand data**"
   ]
  },
  {
   "cell_type": "code",
   "execution_count": 472,
   "metadata": {},
   "outputs": [],
   "source": [
    "# Read data from csv file\n",
    "data = pd.read_csv(\"data/creditcard.csv\")"
   ]
  },
  {
   "cell_type": "code",
   "execution_count": 473,
   "metadata": {},
   "outputs": [
    {
     "data": {
      "text/html": [
       "<div>\n",
       "<style scoped>\n",
       "    .dataframe tbody tr th:only-of-type {\n",
       "        vertical-align: middle;\n",
       "    }\n",
       "\n",
       "    .dataframe tbody tr th {\n",
       "        vertical-align: top;\n",
       "    }\n",
       "\n",
       "    .dataframe thead th {\n",
       "        text-align: right;\n",
       "    }\n",
       "</style>\n",
       "<table border=\"1\" class=\"dataframe\">\n",
       "  <thead>\n",
       "    <tr style=\"text-align: right;\">\n",
       "      <th></th>\n",
       "      <th>Time</th>\n",
       "      <th>V1</th>\n",
       "      <th>V2</th>\n",
       "      <th>V3</th>\n",
       "      <th>V4</th>\n",
       "      <th>V5</th>\n",
       "      <th>V6</th>\n",
       "      <th>V7</th>\n",
       "      <th>V8</th>\n",
       "      <th>V9</th>\n",
       "      <th>...</th>\n",
       "      <th>V21</th>\n",
       "      <th>V22</th>\n",
       "      <th>V23</th>\n",
       "      <th>V24</th>\n",
       "      <th>V25</th>\n",
       "      <th>V26</th>\n",
       "      <th>V27</th>\n",
       "      <th>V28</th>\n",
       "      <th>Amount</th>\n",
       "      <th>Class</th>\n",
       "    </tr>\n",
       "  </thead>\n",
       "  <tbody>\n",
       "    <tr>\n",
       "      <th>0</th>\n",
       "      <td>0.0</td>\n",
       "      <td>-1.359807</td>\n",
       "      <td>-0.072781</td>\n",
       "      <td>2.536347</td>\n",
       "      <td>1.378155</td>\n",
       "      <td>-0.338321</td>\n",
       "      <td>0.462388</td>\n",
       "      <td>0.239599</td>\n",
       "      <td>0.098698</td>\n",
       "      <td>0.363787</td>\n",
       "      <td>...</td>\n",
       "      <td>-0.018307</td>\n",
       "      <td>0.277838</td>\n",
       "      <td>-0.110474</td>\n",
       "      <td>0.066928</td>\n",
       "      <td>0.128539</td>\n",
       "      <td>-0.189115</td>\n",
       "      <td>0.133558</td>\n",
       "      <td>-0.021053</td>\n",
       "      <td>149.62</td>\n",
       "      <td>0</td>\n",
       "    </tr>\n",
       "    <tr>\n",
       "      <th>1</th>\n",
       "      <td>0.0</td>\n",
       "      <td>1.191857</td>\n",
       "      <td>0.266151</td>\n",
       "      <td>0.166480</td>\n",
       "      <td>0.448154</td>\n",
       "      <td>0.060018</td>\n",
       "      <td>-0.082361</td>\n",
       "      <td>-0.078803</td>\n",
       "      <td>0.085102</td>\n",
       "      <td>-0.255425</td>\n",
       "      <td>...</td>\n",
       "      <td>-0.225775</td>\n",
       "      <td>-0.638672</td>\n",
       "      <td>0.101288</td>\n",
       "      <td>-0.339846</td>\n",
       "      <td>0.167170</td>\n",
       "      <td>0.125895</td>\n",
       "      <td>-0.008983</td>\n",
       "      <td>0.014724</td>\n",
       "      <td>2.69</td>\n",
       "      <td>0</td>\n",
       "    </tr>\n",
       "    <tr>\n",
       "      <th>2</th>\n",
       "      <td>1.0</td>\n",
       "      <td>-1.358354</td>\n",
       "      <td>-1.340163</td>\n",
       "      <td>1.773209</td>\n",
       "      <td>0.379780</td>\n",
       "      <td>-0.503198</td>\n",
       "      <td>1.800499</td>\n",
       "      <td>0.791461</td>\n",
       "      <td>0.247676</td>\n",
       "      <td>-1.514654</td>\n",
       "      <td>...</td>\n",
       "      <td>0.247998</td>\n",
       "      <td>0.771679</td>\n",
       "      <td>0.909412</td>\n",
       "      <td>-0.689281</td>\n",
       "      <td>-0.327642</td>\n",
       "      <td>-0.139097</td>\n",
       "      <td>-0.055353</td>\n",
       "      <td>-0.059752</td>\n",
       "      <td>378.66</td>\n",
       "      <td>0</td>\n",
       "    </tr>\n",
       "    <tr>\n",
       "      <th>3</th>\n",
       "      <td>1.0</td>\n",
       "      <td>-0.966272</td>\n",
       "      <td>-0.185226</td>\n",
       "      <td>1.792993</td>\n",
       "      <td>-0.863291</td>\n",
       "      <td>-0.010309</td>\n",
       "      <td>1.247203</td>\n",
       "      <td>0.237609</td>\n",
       "      <td>0.377436</td>\n",
       "      <td>-1.387024</td>\n",
       "      <td>...</td>\n",
       "      <td>-0.108300</td>\n",
       "      <td>0.005274</td>\n",
       "      <td>-0.190321</td>\n",
       "      <td>-1.175575</td>\n",
       "      <td>0.647376</td>\n",
       "      <td>-0.221929</td>\n",
       "      <td>0.062723</td>\n",
       "      <td>0.061458</td>\n",
       "      <td>123.50</td>\n",
       "      <td>0</td>\n",
       "    </tr>\n",
       "    <tr>\n",
       "      <th>4</th>\n",
       "      <td>2.0</td>\n",
       "      <td>-1.158233</td>\n",
       "      <td>0.877737</td>\n",
       "      <td>1.548718</td>\n",
       "      <td>0.403034</td>\n",
       "      <td>-0.407193</td>\n",
       "      <td>0.095921</td>\n",
       "      <td>0.592941</td>\n",
       "      <td>-0.270533</td>\n",
       "      <td>0.817739</td>\n",
       "      <td>...</td>\n",
       "      <td>-0.009431</td>\n",
       "      <td>0.798278</td>\n",
       "      <td>-0.137458</td>\n",
       "      <td>0.141267</td>\n",
       "      <td>-0.206010</td>\n",
       "      <td>0.502292</td>\n",
       "      <td>0.219422</td>\n",
       "      <td>0.215153</td>\n",
       "      <td>69.99</td>\n",
       "      <td>0</td>\n",
       "    </tr>\n",
       "  </tbody>\n",
       "</table>\n",
       "<p>5 rows × 31 columns</p>\n",
       "</div>"
      ],
      "text/plain": [
       "   Time        V1        V2        V3        V4        V5        V6        V7  \\\n",
       "0   0.0 -1.359807 -0.072781  2.536347  1.378155 -0.338321  0.462388  0.239599   \n",
       "1   0.0  1.191857  0.266151  0.166480  0.448154  0.060018 -0.082361 -0.078803   \n",
       "2   1.0 -1.358354 -1.340163  1.773209  0.379780 -0.503198  1.800499  0.791461   \n",
       "3   1.0 -0.966272 -0.185226  1.792993 -0.863291 -0.010309  1.247203  0.237609   \n",
       "4   2.0 -1.158233  0.877737  1.548718  0.403034 -0.407193  0.095921  0.592941   \n",
       "\n",
       "         V8        V9  ...       V21       V22       V23       V24       V25  \\\n",
       "0  0.098698  0.363787  ... -0.018307  0.277838 -0.110474  0.066928  0.128539   \n",
       "1  0.085102 -0.255425  ... -0.225775 -0.638672  0.101288 -0.339846  0.167170   \n",
       "2  0.247676 -1.514654  ...  0.247998  0.771679  0.909412 -0.689281 -0.327642   \n",
       "3  0.377436 -1.387024  ... -0.108300  0.005274 -0.190321 -1.175575  0.647376   \n",
       "4 -0.270533  0.817739  ... -0.009431  0.798278 -0.137458  0.141267 -0.206010   \n",
       "\n",
       "        V26       V27       V28  Amount  Class  \n",
       "0 -0.189115  0.133558 -0.021053  149.62      0  \n",
       "1  0.125895 -0.008983  0.014724    2.69      0  \n",
       "2 -0.139097 -0.055353 -0.059752  378.66      0  \n",
       "3 -0.221929  0.062723  0.061458  123.50      0  \n",
       "4  0.502292  0.219422  0.215153   69.99      0  \n",
       "\n",
       "[5 rows x 31 columns]"
      ]
     },
     "execution_count": 473,
     "metadata": {},
     "output_type": "execute_result"
    }
   ],
   "source": [
    "data.head()"
   ]
  },
  {
   "cell_type": "code",
   "execution_count": 474,
   "metadata": {},
   "outputs": [
    {
     "name": "stdout",
     "output_type": "stream",
     "text": [
      "(284807, 31)\n",
      "                Time            V1            V2            V3            V4  \\\n",
      "count  284807.000000  2.848070e+05  2.848070e+05  2.848070e+05  2.848070e+05   \n",
      "mean    94813.859575  1.165980e-15  3.416908e-16 -1.373150e-15  2.086869e-15   \n",
      "std     47488.145955  1.958696e+00  1.651309e+00  1.516255e+00  1.415869e+00   \n",
      "min         0.000000 -5.640751e+01 -7.271573e+01 -4.832559e+01 -5.683171e+00   \n",
      "25%     54201.500000 -9.203734e-01 -5.985499e-01 -8.903648e-01 -8.486401e-01   \n",
      "50%     84692.000000  1.810880e-02  6.548556e-02  1.798463e-01 -1.984653e-02   \n",
      "75%    139320.500000  1.315642e+00  8.037239e-01  1.027196e+00  7.433413e-01   \n",
      "max    172792.000000  2.454930e+00  2.205773e+01  9.382558e+00  1.687534e+01   \n",
      "\n",
      "                 V5            V6            V7            V8            V9  \\\n",
      "count  2.848070e+05  2.848070e+05  2.848070e+05  2.848070e+05  2.848070e+05   \n",
      "mean   9.604066e-16  1.490107e-15 -5.556467e-16  1.177556e-16 -2.406455e-15   \n",
      "std    1.380247e+00  1.332271e+00  1.237094e+00  1.194353e+00  1.098632e+00   \n",
      "min   -1.137433e+02 -2.616051e+01 -4.355724e+01 -7.321672e+01 -1.343407e+01   \n",
      "25%   -6.915971e-01 -7.682956e-01 -5.540759e-01 -2.086297e-01 -6.430976e-01   \n",
      "50%   -5.433583e-02 -2.741871e-01  4.010308e-02  2.235804e-02 -5.142873e-02   \n",
      "75%    6.119264e-01  3.985649e-01  5.704361e-01  3.273459e-01  5.971390e-01   \n",
      "max    3.480167e+01  7.330163e+01  1.205895e+02  2.000721e+01  1.559499e+01   \n",
      "\n",
      "       ...           V21           V22           V23           V24  \\\n",
      "count  ...  2.848070e+05  2.848070e+05  2.848070e+05  2.848070e+05   \n",
      "mean   ...  1.656562e-16 -3.444850e-16  2.578648e-16  4.471968e-15   \n",
      "std    ...  7.345240e-01  7.257016e-01  6.244603e-01  6.056471e-01   \n",
      "min    ... -3.483038e+01 -1.093314e+01 -4.480774e+01 -2.836627e+00   \n",
      "25%    ... -2.283949e-01 -5.423504e-01 -1.618463e-01 -3.545861e-01   \n",
      "50%    ... -2.945017e-02  6.781943e-03 -1.119293e-02  4.097606e-02   \n",
      "75%    ...  1.863772e-01  5.285536e-01  1.476421e-01  4.395266e-01   \n",
      "max    ...  2.720284e+01  1.050309e+01  2.252841e+01  4.584549e+00   \n",
      "\n",
      "                V25           V26           V27           V28         Amount  \\\n",
      "count  2.848070e+05  2.848070e+05  2.848070e+05  2.848070e+05  284807.000000   \n",
      "mean   5.340915e-16  1.687098e-15 -3.666453e-16 -1.220404e-16      88.349619   \n",
      "std    5.212781e-01  4.822270e-01  4.036325e-01  3.300833e-01     250.120109   \n",
      "min   -1.029540e+01 -2.604551e+00 -2.256568e+01 -1.543008e+01       0.000000   \n",
      "25%   -3.171451e-01 -3.269839e-01 -7.083953e-02 -5.295979e-02       5.600000   \n",
      "50%    1.659350e-02 -5.213911e-02  1.342146e-03  1.124383e-02      22.000000   \n",
      "75%    3.507156e-01  2.409522e-01  9.104512e-02  7.827995e-02      77.165000   \n",
      "max    7.519589e+00  3.517346e+00  3.161220e+01  3.384781e+01   25691.160000   \n",
      "\n",
      "               Class  \n",
      "count  284807.000000  \n",
      "mean        0.001727  \n",
      "std         0.041527  \n",
      "min         0.000000  \n",
      "25%         0.000000  \n",
      "50%         0.000000  \n",
      "75%         0.000000  \n",
      "max         1.000000  \n",
      "\n",
      "[8 rows x 31 columns]\n"
     ]
    }
   ],
   "source": [
    "# Check shape and data summary\n",
    "print(data.shape)\n",
    "print(data.describe())"
   ]
  },
  {
   "cell_type": "code",
   "execution_count": 475,
   "metadata": {},
   "outputs": [
    {
     "data": {
      "text/plain": [
       "Index(['Time', 'V1', 'V2', 'V3', 'V4', 'V5', 'V6', 'V7', 'V8', 'V9', 'V10',\n",
       "       'V11', 'V12', 'V13', 'V14', 'V15', 'V16', 'V17', 'V18', 'V19', 'V20',\n",
       "       'V21', 'V22', 'V23', 'V24', 'V25', 'V26', 'V27', 'V28', 'Amount',\n",
       "       'Class'],\n",
       "      dtype='object')"
      ]
     },
     "execution_count": 475,
     "metadata": {},
     "output_type": "execute_result"
    }
   ],
   "source": [
    "# check all the columns\n",
    "data.columns"
   ]
  },
  {
   "cell_type": "code",
   "execution_count": 476,
   "metadata": {},
   "outputs": [
    {
     "name": "stdout",
     "output_type": "stream",
     "text": [
      "Total Fraud Count: 492 \n",
      "Non Fraud Transaction: 284315\n",
      "Fraction of fraud and non fraud: 0.0017304750013189597\n"
     ]
    }
   ],
   "source": [
    "# Determin number of fraud cases and plot\n",
    "\n",
    "fraud = data[data[\"Class\"] == 1]\n",
    "valid = data[data[\"Class\"] == 0]\n",
    "\n",
    "print(f\"Total Fraud Count: {len(fraud)} \")\n",
    "print(f\"Non Fraud Transaction: {len(valid)}\")\n",
    "print(f\"Fraction of fraud and non fraud: {len(fraud)/ len(valid)}\")"
   ]
  },
  {
   "cell_type": "code",
   "execution_count": 477,
   "metadata": {},
   "outputs": [
    {
     "data": {
      "text/plain": [
       "Text(0, 0.5, 'Number of Transactions')"
      ]
     },
     "execution_count": 477,
     "metadata": {},
     "output_type": "execute_result"
    },
    {
     "data": {
      "image/png": "[encoded data removed]",
      "text/plain": [
       "<Figure size 432x288 with 1 Axes>"
      ]
     },
     "metadata": {
      "needs_background": "light"
     },
     "output_type": "display_data"
    }
   ],
   "source": [
    "# Plot the difference\n",
    "tmp = data.groupby(\"Class\")['Amount'].count()\n",
    "\n",
    "# Convert Series to DataFrame and reset index to make 'Class' a column\n",
    "fraud_count = pd.DataFrame(tmp).reset_index()\n",
    "\n",
    "sns.barplot(data= fraud_count,x=\"Class\" ,y= \"Amount\" )\n",
    "plt.title(\"Number of transaction by Class\")\n",
    "plt.xlabel(\"Class (0: Non-Fruad, 1: Fraud)\")\n",
    "plt.ylabel('Number of Transactions')\n"
   ]
  },
  {
   "cell_type": "code",
   "execution_count": 478,
   "metadata": {},
   "outputs": [
    {
     "name": "stdout",
     "output_type": "stream",
     "text": [
      "Fraction of fraud : 0.001727485630620034\n"
     ]
    }
   ],
   "source": [
    "\n",
    "print(f\"Fraction of fraud : {len(fraud)/ len(data)}\")"
   ]
  },
  {
   "cell_type": "markdown",
   "metadata": {},
   "source": [
    "- Only **0.17%** fraudulent transaction out all the transactions. The data is highly **Unbalanced**."
   ]
  },
  {
   "cell_type": "code",
   "execution_count": 479,
   "metadata": {},
   "outputs": [
    {
     "name": "stdout",
     "output_type": "stream",
     "text": [
      "Amount details of the fraudulent transaction\n"
     ]
    },
    {
     "data": {
      "text/plain": [
       "count     492.000000\n",
       "mean      122.211321\n",
       "std       256.683288\n",
       "min         0.000000\n",
       "25%         1.000000\n",
       "50%         9.250000\n",
       "75%       105.890000\n",
       "max      2125.870000\n",
       "Name: Amount, dtype: float64"
      ]
     },
     "execution_count": 479,
     "metadata": {},
     "output_type": "execute_result"
    }
   ],
   "source": [
    "# Let's check the amount details for Fraud Transaction\n",
    "print(\"Amount details of the fraudulent transaction\")\n",
    "fraud.Amount.describe()"
   ]
  },
  {
   "cell_type": "code",
   "execution_count": 480,
   "metadata": {},
   "outputs": [
    {
     "name": "stdout",
     "output_type": "stream",
     "text": [
      "Amount details of the fraudulent transaction\n"
     ]
    },
    {
     "data": {
      "text/plain": [
       "count    284315.000000\n",
       "mean         88.291022\n",
       "std         250.105092\n",
       "min           0.000000\n",
       "25%           5.650000\n",
       "50%          22.000000\n",
       "75%          77.050000\n",
       "max       25691.160000\n",
       "Name: Amount, dtype: float64"
      ]
     },
     "execution_count": 480,
     "metadata": {},
     "output_type": "execute_result"
    }
   ],
   "source": [
    "# Let's check the amount details for Valid Transaction\n",
    "print(\"Amount details of the fraudulent transaction\")\n",
    "valid.Amount.describe()"
   ]
  },
  {
   "cell_type": "markdown",
   "metadata": {},
   "source": [
    "-  The average Money transaction for the fraudulent ones is more. This makes this problem crucial to deal with."
   ]
  },
  {
   "cell_type": "code",
   "execution_count": 481,
   "metadata": {},
   "outputs": [
    {
     "data": {
      "text/plain": [
       "<matplotlib.axes._subplots.AxesSubplot at 0x7fba735f6470>"
      ]
     },
     "execution_count": 481,
     "metadata": {},
     "output_type": "execute_result"
    },
    {
     "data": {
      "image/png": "[encoded data removed]",
      "text/plain": [
       "<Figure size 432x288 with 1 Axes>"
      ]
     },
     "metadata": {
      "needs_background": "light"
     },
     "output_type": "display_data"
    }
   ],
   "source": [
    "sns.barplot(x=[valid.Amount.describe()[1], \n",
    "               fraud.Amount.describe()[1]], y = ['Non Fraud', 'Fraud'])"
   ]
  },
  {
   "cell_type": "markdown",
   "metadata": {},
   "source": [
    "- Most of the transactions are non-fraud. If we use this data to train our models, the algorithms will probably overfit since it assume most transactions are not fraud. There are 284315 non fraud transactions and only 492 fraud transactions."
   ]
  },
  {
   "cell_type": "markdown",
   "metadata": {},
   "source": [
    "# Scaling"
   ]
  },
  {
   "cell_type": "markdown",
   "metadata": {},
   "source": [
    "- Before choosing between Standard Scaler and Robust Scaler, we will check the distribution of Amount and Time"
   ]
  },
  {
   "cell_type": "code",
   "execution_count": 482,
   "metadata": {},
   "outputs": [
    {
     "data": {
      "text/plain": [
       "Text(0.5, 1.0, 'Distribution of amount')"
      ]
     },
     "execution_count": 482,
     "metadata": {},
     "output_type": "execute_result"
    },
    {
     "data": {
      "image/png": "[encoded data removed]",
      "text/plain": [
       "<Figure size 432x288 with 1 Axes>"
      ]
     },
     "metadata": {
      "needs_background": "light"
     },
     "output_type": "display_data"
    }
   ],
   "source": [
    "# Amount distribution plot\n",
    "\n",
    "amount_arr = data['Amount'].values\n",
    "sns.distplot(amount_arr, color = 'r')\n",
    "plt.title(\"Distribution of amount\")"
   ]
  },
  {
   "cell_type": "code",
   "execution_count": 483,
   "metadata": {},
   "outputs": [
    {
     "data": {
      "text/plain": [
       "Text(0.5, 1.0, 'Distribution of time')"
      ]
     },
     "execution_count": 483,
     "metadata": {},
     "output_type": "execute_result"
    },
    {
     "data": {
      "image/png": "[encoded data removed]",
      "text/plain": [
       "<Figure size 432x288 with 1 Axes>"
      ]
     },
     "metadata": {
      "needs_background": "light"
     },
     "output_type": "display_data"
    }
   ],
   "source": [
    "# Time distribution plot\n",
    "time_arr = data['Time'].values\n",
    "sns.distplot(time_arr, color = 'b')\n",
    "plt.title(\"Distribution of time\")"
   ]
  },
  {
   "cell_type": "markdown",
   "metadata": {},
   "source": [
    "- We can observe that the distributition of amount is skewed and both distribitions do not follow normal distribution => Using robust scaler instead of Standard scaler since robust scaler is less sensitive with outlier"
   ]
  },
  {
   "cell_type": "markdown",
   "metadata": {},
   "source": [
    "- Since the data has already scaled V1 - V28 beside Time and Amount. We will scale Time and Amount variables"
   ]
  },
  {
   "cell_type": "code",
   "execution_count": 484,
   "metadata": {},
   "outputs": [],
   "source": [
    "scaler = RobustScaler()\n",
    "\n",
    "#convert 1-dimensional array shape (n, ) into 2 dim array with shape(n, 1)\n",
    "scale_amt = data['Amount'].values.reshape(-1, 1)\n",
    "scale_time = data['Time'].values.reshape(-1, 1)\n",
    "data['scaled_amount'] = scaler.fit_transform(scale_amt)\n",
    "data['scaled_time'] = scaler.fit_transform(scale_time)\n",
    "\n",
    "#Drop the two unscaled columns\n",
    "data = data.drop(columns=['Time', 'Amount'])"
   ]
  },
  {
   "cell_type": "code",
   "execution_count": 485,
   "metadata": {},
   "outputs": [
    {
     "data": {
      "text/html": [
       "<div>\n",
       "<style scoped>\n",
       "    .dataframe tbody tr th:only-of-type {\n",
       "        vertical-align: middle;\n",
       "    }\n",
       "\n",
       "    .dataframe tbody tr th {\n",
       "        vertical-align: top;\n",
       "    }\n",
       "\n",
       "    .dataframe thead th {\n",
       "        text-align: right;\n",
       "    }\n",
       "</style>\n",
       "<table border=\"1\" class=\"dataframe\">\n",
       "  <thead>\n",
       "    <tr style=\"text-align: right;\">\n",
       "      <th></th>\n",
       "      <th>V1</th>\n",
       "      <th>V2</th>\n",
       "      <th>V3</th>\n",
       "      <th>V4</th>\n",
       "      <th>V5</th>\n",
       "      <th>V6</th>\n",
       "      <th>V7</th>\n",
       "      <th>V8</th>\n",
       "      <th>V9</th>\n",
       "      <th>V10</th>\n",
       "      <th>...</th>\n",
       "      <th>V22</th>\n",
       "      <th>V23</th>\n",
       "      <th>V24</th>\n",
       "      <th>V25</th>\n",
       "      <th>V26</th>\n",
       "      <th>V27</th>\n",
       "      <th>V28</th>\n",
       "      <th>Class</th>\n",
       "      <th>scaled_amount</th>\n",
       "      <th>scaled_time</th>\n",
       "    </tr>\n",
       "  </thead>\n",
       "  <tbody>\n",
       "    <tr>\n",
       "      <th>0</th>\n",
       "      <td>-1.359807</td>\n",
       "      <td>-0.072781</td>\n",
       "      <td>2.536347</td>\n",
       "      <td>1.378155</td>\n",
       "      <td>-0.338321</td>\n",
       "      <td>0.462388</td>\n",
       "      <td>0.239599</td>\n",
       "      <td>0.098698</td>\n",
       "      <td>0.363787</td>\n",
       "      <td>0.090794</td>\n",
       "      <td>...</td>\n",
       "      <td>0.277838</td>\n",
       "      <td>-0.110474</td>\n",
       "      <td>0.066928</td>\n",
       "      <td>0.128539</td>\n",
       "      <td>-0.189115</td>\n",
       "      <td>0.133558</td>\n",
       "      <td>-0.021053</td>\n",
       "      <td>0</td>\n",
       "      <td>1.783274</td>\n",
       "      <td>-0.994983</td>\n",
       "    </tr>\n",
       "    <tr>\n",
       "      <th>1</th>\n",
       "      <td>1.191857</td>\n",
       "      <td>0.266151</td>\n",
       "      <td>0.166480</td>\n",
       "      <td>0.448154</td>\n",
       "      <td>0.060018</td>\n",
       "      <td>-0.082361</td>\n",
       "      <td>-0.078803</td>\n",
       "      <td>0.085102</td>\n",
       "      <td>-0.255425</td>\n",
       "      <td>-0.166974</td>\n",
       "      <td>...</td>\n",
       "      <td>-0.638672</td>\n",
       "      <td>0.101288</td>\n",
       "      <td>-0.339846</td>\n",
       "      <td>0.167170</td>\n",
       "      <td>0.125895</td>\n",
       "      <td>-0.008983</td>\n",
       "      <td>0.014724</td>\n",
       "      <td>0</td>\n",
       "      <td>-0.269825</td>\n",
       "      <td>-0.994983</td>\n",
       "    </tr>\n",
       "    <tr>\n",
       "      <th>2</th>\n",
       "      <td>-1.358354</td>\n",
       "      <td>-1.340163</td>\n",
       "      <td>1.773209</td>\n",
       "      <td>0.379780</td>\n",
       "      <td>-0.503198</td>\n",
       "      <td>1.800499</td>\n",
       "      <td>0.791461</td>\n",
       "      <td>0.247676</td>\n",
       "      <td>-1.514654</td>\n",
       "      <td>0.207643</td>\n",
       "      <td>...</td>\n",
       "      <td>0.771679</td>\n",
       "      <td>0.909412</td>\n",
       "      <td>-0.689281</td>\n",
       "      <td>-0.327642</td>\n",
       "      <td>-0.139097</td>\n",
       "      <td>-0.055353</td>\n",
       "      <td>-0.059752</td>\n",
       "      <td>0</td>\n",
       "      <td>4.983721</td>\n",
       "      <td>-0.994972</td>\n",
       "    </tr>\n",
       "    <tr>\n",
       "      <th>3</th>\n",
       "      <td>-0.966272</td>\n",
       "      <td>-0.185226</td>\n",
       "      <td>1.792993</td>\n",
       "      <td>-0.863291</td>\n",
       "      <td>-0.010309</td>\n",
       "      <td>1.247203</td>\n",
       "      <td>0.237609</td>\n",
       "      <td>0.377436</td>\n",
       "      <td>-1.387024</td>\n",
       "      <td>-0.054952</td>\n",
       "      <td>...</td>\n",
       "      <td>0.005274</td>\n",
       "      <td>-0.190321</td>\n",
       "      <td>-1.175575</td>\n",
       "      <td>0.647376</td>\n",
       "      <td>-0.221929</td>\n",
       "      <td>0.062723</td>\n",
       "      <td>0.061458</td>\n",
       "      <td>0</td>\n",
       "      <td>1.418291</td>\n",
       "      <td>-0.994972</td>\n",
       "    </tr>\n",
       "    <tr>\n",
       "      <th>4</th>\n",
       "      <td>-1.158233</td>\n",
       "      <td>0.877737</td>\n",
       "      <td>1.548718</td>\n",
       "      <td>0.403034</td>\n",
       "      <td>-0.407193</td>\n",
       "      <td>0.095921</td>\n",
       "      <td>0.592941</td>\n",
       "      <td>-0.270533</td>\n",
       "      <td>0.817739</td>\n",
       "      <td>0.753074</td>\n",
       "      <td>...</td>\n",
       "      <td>0.798278</td>\n",
       "      <td>-0.137458</td>\n",
       "      <td>0.141267</td>\n",
       "      <td>-0.206010</td>\n",
       "      <td>0.502292</td>\n",
       "      <td>0.219422</td>\n",
       "      <td>0.215153</td>\n",
       "      <td>0</td>\n",
       "      <td>0.670579</td>\n",
       "      <td>-0.994960</td>\n",
       "    </tr>\n",
       "  </tbody>\n",
       "</table>\n",
       "<p>5 rows × 31 columns</p>\n",
       "</div>"
      ],
      "text/plain": [
       "         V1        V2        V3        V4        V5        V6        V7  \\\n",
       "0 -1.359807 -0.072781  2.536347  1.378155 -0.338321  0.462388  0.239599   \n",
       "1  1.191857  0.266151  0.166480  0.448154  0.060018 -0.082361 -0.078803   \n",
       "2 -1.358354 -1.340163  1.773209  0.379780 -0.503198  1.800499  0.791461   \n",
       "3 -0.966272 -0.185226  1.792993 -0.863291 -0.010309  1.247203  0.237609   \n",
       "4 -1.158233  0.877737  1.548718  0.403034 -0.407193  0.095921  0.592941   \n",
       "\n",
       "         V8        V9       V10  ...       V22       V23       V24       V25  \\\n",
       "0  0.098698  0.363787  0.090794  ...  0.277838 -0.110474  0.066928  0.128539   \n",
       "1  0.085102 -0.255425 -0.166974  ... -0.638672  0.101288 -0.339846  0.167170   \n",
       "2  0.247676 -1.514654  0.207643  ...  0.771679  0.909412 -0.689281 -0.327642   \n",
       "3  0.377436 -1.387024 -0.054952  ...  0.005274 -0.190321 -1.175575  0.647376   \n",
       "4 -0.270533  0.817739  0.753074  ...  0.798278 -0.137458  0.141267 -0.206010   \n",
       "\n",
       "        V26       V27       V28  Class  scaled_amount  scaled_time  \n",
       "0 -0.189115  0.133558 -0.021053      0       1.783274    -0.994983  \n",
       "1  0.125895 -0.008983  0.014724      0      -0.269825    -0.994983  \n",
       "2 -0.139097 -0.055353 -0.059752      0       4.983721    -0.994972  \n",
       "3 -0.221929  0.062723  0.061458      0       1.418291    -0.994972  \n",
       "4  0.502292  0.219422  0.215153      0       0.670579    -0.994960  \n",
       "\n",
       "[5 rows x 31 columns]"
      ]
     },
     "execution_count": 485,
     "metadata": {},
     "output_type": "execute_result"
    }
   ],
   "source": [
    "data.head()"
   ]
  },
  {
   "cell_type": "markdown",
   "metadata": {},
   "source": [
    "- Data is now scaled."
   ]
  },
  {
   "cell_type": "code",
   "execution_count": 486,
   "metadata": {},
   "outputs": [],
   "source": [
    "from sklearn.model_selection import StratifiedKFold\n"
   ]
  },
  {
   "cell_type": "markdown",
   "metadata": {},
   "source": [
    "- Since the distribution of the data is skewed (with many more valid transactions than fraudulent ones), we use Stratified Sampling to maintain the same class distribution across the different folds in both the training and testing sets.\n",
    "\n",
    "- https://www.geeksforgeeks.org/stratified-k-fold-cross-validation/\n"
   ]
  },
  {
   "cell_type": "code",
   "execution_count": 487,
   "metadata": {},
   "outputs": [
    {
     "name": "stdout",
     "output_type": "stream",
     "text": [
      "Label distribution of train set:\n",
      "[0.99827514 0.00172486]\n",
      "\n",
      " Label distribution of test set:\n",
      "[0.998262 0.001738]\n",
      "------------------------------\n",
      "Label distribution of train set:\n",
      "[0.99827514 0.00172486]\n",
      "\n",
      " Label distribution of test set:\n",
      "[0.998262 0.001738]\n",
      "------------------------------\n",
      "Label distribution of train set:\n",
      "[0.99827076 0.00172924]\n",
      "\n",
      " Label distribution of test set:\n",
      "[0.99827952 0.00172048]\n",
      "------------------------------\n",
      "Label distribution of train set:\n",
      "[0.99827076 0.00172924]\n",
      "\n",
      " Label distribution of test set:\n",
      "[0.99827952 0.00172048]\n",
      "------------------------------\n",
      "Label distribution of train set:\n",
      "[0.99827076 0.00172924]\n",
      "\n",
      " Label distribution of test set:\n",
      "[0.99827952 0.00172048]\n",
      "------------------------------\n"
     ]
    }
   ],
   "source": [
    "X = data.drop(columns=\"Class\")\n",
    "y = data['Class']\n",
    "\n",
    "\n",
    "# Split into ten folds\n",
    "folds = StratifiedKFold(n_splits= 5, random_state=None, shuffle= False)\n",
    "\n",
    "for train_index, test_index in folds.split(X,y):\n",
    "    original_ytrain, original_ytest = y.iloc[train_index], y.iloc[test_index]\n",
    "    \n",
    "    #Check distribution of ytrain and ytest for each fold\n",
    "    print(\"Label distribution of train set:\")\n",
    "    tmp = np.unique(original_ytrain.values, return_counts=True)[1]\n",
    "    print(tmp/ len(original_ytrain))\n",
    "    print(\"\\n Label distribution of test set:\")\n",
    "    tmp2 = np.unique(original_ytest.values, return_counts=True)[1]\n",
    "    print(tmp2/ len(original_ytest))\n",
    "    print(\"---\"*10)\n",
    "    "
   ]
  },
  {
   "cell_type": "markdown",
   "metadata": {},
   "source": [
    "- This follow the distribution of the dataset."
   ]
  },
  {
   "cell_type": "markdown",
   "metadata": {},
   "source": [
    "# NearMiss (Under sampling Technique)"
   ]
  },
  {
   "cell_type": "markdown",
   "metadata": {},
   "source": [
    "- Due to the **significant class imbalance** in the dataset, machine learning techniques like Decision Trees and Logistic Regression tend to be **biased** towards the majority class. \n",
    "\n",
    "- As a result, these models are more likely to predict **transactions as valid rather than fraudulent**, simply because valid transactions dominate the dataset."
   ]
  },
  {
   "cell_type": "code",
   "execution_count": 488,
   "metadata": {},
   "outputs": [],
   "source": [
    "# Let's try to fit logistic regression with the imbalance data \n",
    "#using stratisfied K fold Validation\n",
    "from sklearn.linear_model import LogisticRegression\n",
    "from sklearn.metrics import accuracy_score, precision_score, recall_score, f1_score"
   ]
  },
  {
   "cell_type": "markdown",
   "metadata": {},
   "source": [
    "- NearMiss is an under-sampling technique. It aims to balance class distribution by randomly eliminating majority class examples.\n",
    "\n",
    "- Sources: https://www.researchgate.net/profile/Rahul-Pandya-7/publication/367510232_Heuristic_Approach_of_Over-Sampling_and_Under-_Sampling_in_Fraud_Detection/links/63d54b2d64fc860638f55f64/Heuristic-Approach-of-Over-Sampling-and-Under-Sampling-in-Fraud-Detection.pdf"
   ]
  },
  {
   "cell_type": "code",
   "execution_count": 489,
   "metadata": {},
   "outputs": [
    {
     "name": "stdout",
     "output_type": "stream",
     "text": [
      "Average Accuracy: 0.9991\n",
      "Average Precision: 0.8850\n",
      "Average Recall: 0.5992\n",
      "Average F1 Score: 0.6993\n"
     ]
    }
   ],
   "source": [
    "# Initialize lists to store the metrics for each fold\n",
    "\n",
    "accuracy_scores = []\n",
    "precision_scores = []\n",
    "recall_scores = []\n",
    "f1_scores = []\n",
    "\n",
    "#Iterate through the folds\n",
    "\n",
    "for train_index, test_index in folds.split(X, y):\n",
    "    X_train, X_test = X.iloc[train_index], X.iloc[test_index]\n",
    "    y_train, y_test = y.iloc[train_index], y.iloc[test_index]\n",
    "    \n",
    "    #Init logistic regression model\n",
    "    model = LogisticRegression(max_iter=10000)\n",
    "    \n",
    "    #Train the model\n",
    "    model.fit(X_train, y_train)\n",
    "    \n",
    "    #Predict on the test_set\n",
    "    y_pred = model.predict(X_test)\n",
    "    \n",
    "    #Calculate and store metrics for each fold\n",
    "    \n",
    "    accuracy_scores.append(accuracy_score(y_test, y_pred))\n",
    "    precision_scores.append(precision_score(y_test, y_pred))\n",
    "    recall_scores.append(recall_score(y_test, y_pred))\n",
    "    f1_scores.append(f1_score(y_test, y_pred))\n",
    "    \n",
    "# Calculate the average of each metric\n",
    "avg_accuracy = sum(accuracy_scores) / len(accuracy_scores)\n",
    "avg_precision = sum(precision_scores) / len(precision_scores)\n",
    "avg_recall = sum(recall_scores) / len(recall_scores)\n",
    "avg_f1 = sum(f1_scores) / len(f1_scores)\n",
    "\n",
    "# Print the average metrics\n",
    "print(f'Average Accuracy: {avg_accuracy:.4f}')\n",
    "print(f'Average Precision: {avg_precision:.4f}')\n",
    "print(f'Average Recall: {avg_recall:.4f}')\n",
    "print(f'Average F1 Score: {avg_f1:.4f}')"
   ]
  },
  {
   "cell_type": "markdown",
   "metadata": {},
   "source": [
    "- Even though the average accuracy is very high, recall accuracy is not really great. \n",
    "\n",
    "**Recall Formula:**\n",
    "Recall = TP / (TP + FN)\n",
    "\n",
    "where:\n",
    "    TP = True Positive\n",
    "    FN = False Negative\n",
    "\n",
    "- Also known as sensitivity or true positive rate, is used to measure ability of a model to correctly identify positive instances\n",
    "\n",
    "- **Low Recall Score** means that the number of **false negatives is high**, which implies that many fraudulent transactions are considered as valid transactions."
   ]
  },
  {
   "cell_type": "code",
   "execution_count": 490,
   "metadata": {},
   "outputs": [],
   "source": [
    "# Apply near miss technique"
   ]
  },
  {
   "cell_type": "code",
   "execution_count": 491,
   "metadata": {},
   "outputs": [
    {
     "name": "stdout",
     "output_type": "stream",
     "text": [
      "Before Undersampling, counts of label '1': 492\n",
      "Before Undersampling, counts of label '0': 284315 \n",
      "\n",
      "After Undersampling, the shape of train_X: (984, 30)\n",
      "After Undersampling, the shape of train_y: (984,) \n",
      "\n",
      "After Undersampling, counts of label '1': 492\n",
      "After Undersampling, counts of label '0': 492\n"
     ]
    }
   ],
   "source": [
    "# apply near miss\n",
    "from imblearn.under_sampling import NearMiss\n",
    "nr = NearMiss()\n",
    "\n",
    "print(\"Before Undersampling, counts of label '1': {}\".format(sum(y == 1)))\n",
    "print(\"Before Undersampling, counts of label '0': {} \\n\".format(sum(y == 0)))\n",
    "\n",
    "# apply near miss\n",
    "from imblearn.under_sampling import NearMiss\n",
    "nr = NearMiss()\n",
    "\n",
    "X_miss, y_miss = nr.fit_resample(X, y.ravel())\n",
    "\n",
    "print('After Undersampling, the shape of train_X: {}'.format(X_miss.shape))\n",
    "print('After Undersampling, the shape of train_y: {} \\n'.format(y_miss.shape))\n",
    "\n",
    "print(\"After Undersampling, counts of label '1': {}\".format(sum(y_miss == 1)))\n",
    "print(\"After Undersampling, counts of label '0': {}\".format(sum(y_miss == 0)))"
   ]
  },
  {
   "cell_type": "markdown",
   "metadata": {},
   "source": [
    "- Now we have same ratio of fraud and non fraud transactions!"
   ]
  },
  {
   "cell_type": "code",
   "execution_count": 492,
   "metadata": {},
   "outputs": [],
   "source": [
    "# We need to convert y from numpy array type to series type to run the code below\n",
    "y_miss = pd.Series(y_miss)"
   ]
  },
  {
   "cell_type": "code",
   "execution_count": 493,
   "metadata": {},
   "outputs": [
    {
     "name": "stdout",
     "output_type": "stream",
     "text": [
      "Average Accuracy: 0.9187\n",
      "Average Precision: 0.9677\n",
      "Average Recall: 0.8657\n",
      "Average F1 Score: 0.9132\n"
     ]
    }
   ],
   "source": [
    "# Initialize lists to store the metrics for each fold\n",
    "\n",
    "accuracy_scores = []\n",
    "precision_scores = []\n",
    "recall_scores = []\n",
    "f1_scores = []\n",
    "\n",
    "#Iterate through the folds\n",
    "\n",
    "for train_index, test_index in folds.split(X_miss, y_miss):\n",
    "    X_train, X_test = X_miss.iloc[train_index], X_miss.iloc[test_index]\n",
    "    y_train, y_test = y_miss.iloc[train_index], y_miss.iloc[test_index]\n",
    "    \n",
    "    #Init logistic regression model\n",
    "    model = LogisticRegression(max_iter=10000)\n",
    "    \n",
    "    #Train the model\n",
    "    model.fit(X_train, y_train)\n",
    "    \n",
    "    #Predict on the test_set\n",
    "    y_pred = model.predict(X_test)\n",
    "    \n",
    "    #Calculate and store metrics for each fold\n",
    "    \n",
    "    accuracy_scores.append(accuracy_score(y_test, y_pred))\n",
    "    precision_scores.append(precision_score(y_test, y_pred))\n",
    "    recall_scores.append(recall_score(y_test, y_pred))\n",
    "    f1_scores.append(f1_score(y_test, y_pred))\n",
    "    \n",
    "# Calculate the average of each metric\n",
    "avg_accuracy = sum(accuracy_scores) / len(accuracy_scores)\n",
    "avg_precision = sum(precision_scores) / len(precision_scores)\n",
    "avg_recall = sum(recall_scores) / len(recall_scores)\n",
    "avg_f1 = sum(f1_scores) / len(f1_scores)\n",
    "\n",
    "# Print the average metrics\n",
    "print(f'Average Accuracy: {avg_accuracy:.4f}')\n",
    "print(f'Average Precision: {avg_precision:.4f}')\n",
    "print(f'Average Recall: {avg_recall:.4f}')\n",
    "print(f'Average F1 Score: {avg_f1:.4f}')"
   ]
  },
  {
   "cell_type": "markdown",
   "metadata": {},
   "source": [
    "- We increase the Recall score from 0.6 to 0.86 just by undersampling !"
   ]
  },
  {
   "cell_type": "markdown",
   "metadata": {},
   "source": [
    "# Correlation Matrix"
   ]
  },
  {
   "cell_type": "markdown",
   "metadata": {},
   "source": [
    "- Let's see if we can further improve the accuracy of the model by eliminating outliers from important features."
   ]
  },
  {
   "cell_type": "code",
   "execution_count": 494,
   "metadata": {},
   "outputs": [
    {
     "data": {
      "text/plain": [
       "(         V1        V2        V3        V4        V5        V6        V7  \\\n",
       " 0  1.927638  1.320291 -2.600122  3.933076  1.953219  0.034466  0.680236   \n",
       " 1  1.871702  1.106509 -1.876864  4.064366  1.334907  0.118505  0.288013   \n",
       " 2 -0.465511  1.293542  0.909931  0.805013  0.329358 -1.316649  0.877948   \n",
       " 3 -0.272513  1.275378  0.814107  0.731147  0.461421 -1.122808  0.866315   \n",
       " 4 -0.425745  1.379091  0.645260  0.697394  0.702898 -0.681755  0.816204   \n",
       " \n",
       "          V8        V9       V10  ...       V22       V23       V24       V25  \\\n",
       " 0 -0.061683 -1.618814  0.328515  ... -0.371098  0.013208 -0.049736  0.283204   \n",
       " 1  0.079950 -1.215343  0.372612  ... -0.366767  0.143651  0.385827  0.046612   \n",
       " 2 -0.202594 -0.542755 -0.870288  ...  0.129026 -0.145944  0.586362  0.206361   \n",
       " 3 -0.134538 -0.566607 -0.976048  ...  0.047025 -0.264227  0.258076  0.237335   \n",
       " 4 -0.048358 -0.545737 -1.032278  ...  0.135716 -0.248643 -0.071925  0.156898   \n",
       " \n",
       "         V26       V27       V28  scaled_amount  scaled_time  Label  \n",
       " 0 -0.000671 -0.025361  0.001661      -0.254594     0.455586      0  \n",
       " 1 -0.087760 -0.004351  0.007755      -0.307413     0.957988      0  \n",
       " 2 -0.396964 -0.070669  0.051545      -0.293440    -0.160587      0  \n",
       " 3 -0.366500  0.053858  0.056949      -0.293440    -0.063253      0  \n",
       " 4 -0.350277 -0.057853  0.057242      -0.293440    -0.648563      0  \n",
       " \n",
       " [5 rows x 31 columns], (984, 31))"
      ]
     },
     "execution_count": 494,
     "metadata": {},
     "output_type": "execute_result"
    }
   ],
   "source": [
    "# Create a new dataframe from Undersampling\n",
    "\n",
    "df_new = pd.concat([X_miss, y_miss], axis = 1)\n",
    "# Rename newly added column\n",
    "df_new.rename(columns={0 : 'Label'}, inplace = True)\n",
    "df_new.head(), df_new.shape"
   ]
  },
  {
   "cell_type": "code",
   "execution_count": 495,
   "metadata": {},
   "outputs": [
    {
     "data": {
      "text/plain": [
       "<matplotlib.axes._subplots.AxesSubplot at 0x7fbaf32f8c18>"
      ]
     },
     "execution_count": 495,
     "metadata": {},
     "output_type": "execute_result"
    },
    {
     "data": {
      "image/png": "[encoded data removed]",
      "text/plain": [
       "<Figure size 1008x576 with 2 Axes>"
      ]
     },
     "metadata": {
      "needs_background": "light"
     },
     "output_type": "display_data"
    }
   ],
   "source": [
    "# Let's check the correlation matrix of the new data\n",
    "plt.figure(figsize = (14, 8))\n",
    "sample_corr = df_new.corr()\n",
    "sns.heatmap(sample_corr, cmap=\"coolwarm_r\")"
   ]
  },
  {
   "cell_type": "code",
   "execution_count": 496,
   "metadata": {},
   "outputs": [
    {
     "data": {
      "text/plain": [
       "Label            1.000000\n",
       "V4               0.603884\n",
       "V11              0.581536\n",
       "V19              0.470215\n",
       "V2               0.424865\n",
       "scaled_amount    0.253289\n",
       "V20              0.227344\n",
       "V26              0.153749\n",
       "V21              0.136471\n",
       "V13              0.118364\n",
       "V27              0.085584\n",
       "V22              0.065819\n",
       "V8               0.059957\n",
       "V28              0.054711\n",
       "V23              0.022640\n",
       "scaled_time     -0.009364\n",
       "V24             -0.106625\n",
       "V15             -0.159898\n",
       "V25             -0.217886\n",
       "V6              -0.253195\n",
       "V5              -0.415645\n",
       "V1              -0.494633\n",
       "V7              -0.495238\n",
       "V9              -0.515148\n",
       "V3              -0.524793\n",
       "V18             -0.540475\n",
       "V10             -0.593184\n",
       "V17             -0.594941\n",
       "V16             -0.642050\n",
       "V14             -0.687667\n",
       "V12             -0.688049\n",
       "Name: Label, dtype: float64"
      ]
     },
     "execution_count": 496,
     "metadata": {},
     "output_type": "execute_result"
    }
   ],
   "source": [
    "sample_corr[\"Label\"].sort_values(ascending=False)"
   ]
  },
  {
   "cell_type": "code",
   "execution_count": 497,
   "metadata": {},
   "outputs": [
    {
     "data": {
      "text/plain": [
       "Label            1.000000\n",
       "V12              0.688049\n",
       "V14              0.687667\n",
       "V16              0.642050\n",
       "V4               0.603884\n",
       "V17              0.594941\n",
       "V10              0.593184\n",
       "V11              0.581536\n",
       "V18              0.540475\n",
       "V3               0.524793\n",
       "V9               0.515148\n",
       "V7               0.495238\n",
       "V1               0.494633\n",
       "V19              0.470215\n",
       "V2               0.424865\n",
       "V5               0.415645\n",
       "scaled_amount    0.253289\n",
       "V6               0.253195\n",
       "V20              0.227344\n",
       "V25              0.217886\n",
       "V15              0.159898\n",
       "V26              0.153749\n",
       "V21              0.136471\n",
       "V13              0.118364\n",
       "V24              0.106625\n",
       "V27              0.085584\n",
       "V22              0.065819\n",
       "V8               0.059957\n",
       "V28              0.054711\n",
       "V23              0.022640\n",
       "scaled_time      0.009364\n",
       "Name: Label, dtype: float64"
      ]
     },
     "execution_count": 497,
     "metadata": {},
     "output_type": "execute_result"
    }
   ],
   "source": [
    "# Extract important feature by its absolute value\n",
    "abs(sample_corr[\"Label\"]).sort_values(ascending=False)"
   ]
  },
  {
   "cell_type": "markdown",
   "metadata": {},
   "source": [
    "- Important features to predict label class: V12, V14, 16, V4 (p > 0.6)\n",
    "- Let's check the distribution and box plot of these variables to see if there are any outliers"
   ]
  },
  {
   "cell_type": "code",
   "execution_count": 498,
   "metadata": {},
   "outputs": [
    {
     "data": {
      "image/png": "[encoded data removed]",
      "text/plain": [
       "<Figure size 1440x360 with 4 Axes>"
      ]
     },
     "metadata": {
      "needs_background": "light"
     },
     "output_type": "display_data"
    }
   ],
   "source": [
    "# Create 2 subplots (2 for boxplots, 2 for distribution plots)\n",
    "f, axes = plt.subplots(ncols=4, figsize=(20,5))\n",
    "colors = \"Accent\"\n",
    "\n",
    "# V12 - Boxplot\n",
    "sns.boxplot(x=\"Label\", y=\"V12\", data=df_new, palette=colors, ax=axes[0])\n",
    "axes[0].set_title('V12 vs Class Correlation')\n",
    "\n",
    "#V12 - Distribution Plot\n",
    "sns.distplot( df_new[\"V12\"], ax = axes[1], color = 'r')\n",
    "axes[1].set_title('V12 Distribution')\n",
    "#sns.distplot(amount_arr, color = 'r')\n",
    "\n",
    "# V14 - Boxplot\n",
    "sns.boxplot(x=\"Label\", y=\"V14\", data=df_new, palette=colors, ax=axes[2])\n",
    "axes[2].set_title('V14 vs Class Correlation')\n",
    "\n",
    "#V14 - Distribution Plot\n",
    "sns.distplot( df_new[\"V14\"], ax = axes[3], color = 'r')\n",
    "axes[3].set_title('V14 Distribution')\n",
    "#sns.distplot(amount_arr, color = 'r')\n",
    "plt.show()"
   ]
  },
  {
   "cell_type": "code",
   "execution_count": 499,
   "metadata": {},
   "outputs": [
    {
     "data": {
      "image/png": "[encoded data removed]",
      "text/plain": [
       "<Figure size 1440x360 with 4 Axes>"
      ]
     },
     "metadata": {
      "needs_background": "light"
     },
     "output_type": "display_data"
    }
   ],
   "source": [
    "# Create 2 subplots (2 for boxplots, 2 for distribution plots)\n",
    "f, axes = plt.subplots(ncols=4, figsize=(20,5))\n",
    "colors = \"Accent\"\n",
    "\n",
    "# V16 - Boxplot\n",
    "sns.boxplot(x=\"Label\", y=\"V16\", data=df_new, palette=colors, ax=axes[0])\n",
    "axes[0].set_title('V16 vs Class Correlation')\n",
    "\n",
    "#V16 - Distribution Plot\n",
    "sns.distplot( df_new[\"V16\"], ax = axes[1], color = 'r')\n",
    "axes[1].set_title('V16 Distribution')\n",
    "#sns.distplot(amount_arr, color = 'r')\n",
    "\n",
    "# V4 - Boxplot\n",
    "sns.boxplot(x=\"Label\", y=\"V4\", data=df_new, palette=colors, ax=axes[2])\n",
    "axes[2].set_title('V4 vs Class Correlation')\n",
    "\n",
    "#V4 - Distribution Plot\n",
    "sns.distplot( df_new[\"V4\"], ax = axes[3], color = 'r')\n",
    "axes[3].set_title('V4 Distribution')\n",
    "#sns.distplot(amount_arr, color = 'r')\n",
    "plt.show()"
   ]
  },
  {
   "cell_type": "code",
   "execution_count": 501,
   "metadata": {},
   "outputs": [
    {
     "name": "stdout",
     "output_type": "stream",
     "text": [
      "Cut off range for v14:  [-17.807576138200663 to 3.8320323237414122]\n",
      "Number of outliers for fraud case of v14: 4\n",
      "Number of samples after drop: 980\n",
      "--------------------------------------------------------------------------------------------------------------------\n",
      "Cut off range for v12:  [-17.3430371579634 to 5.776973384895937]\n",
      "Number of outliers for fraud case of v12: 4\n",
      "Number of samples after drop: 976\n",
      "--------------------------------------------------------------------------------------------------------------------\n",
      "Cut off range for v16:  [-14.20939879605968 to 6.644093752054304]\n",
      "Number of outliers for fraud case of v12: 0\n",
      "Number of samples after drop: 976\n",
      "--------------------------------------------------------------------------------------------------------------------\n",
      "Cut off range for v4:  [-3.568932935468553 to 12.171805988464309]\n",
      "[]\n",
      "Number of outliers for fraud case of v4: 0\n",
      "Number of samples after drop: 976\n",
      "--------------------------------------------------------------------------------------------------------------------\n"
     ]
    }
   ],
   "source": [
    "# Let's try to remove outliers using IQR\n",
    "\n",
    "#find upper and lower range for each variable\n",
    "v14_1 = df_new['V14'].loc[df_new['Label'] == 1]\n",
    "q25, q75 = np.percentile(v14_1, 25), np.percentile(v14_1, 75)\n",
    "\n",
    "v14_cut_off = (q75 - q25) * 1.5\n",
    "v14_low = q25 - v14_cut_off \n",
    "v14_high = q75 + v14_cut_off\n",
    "\n",
    "print(f\"Cut off range for v14:  [{v14_low} to {v14_high}]\")\n",
    "# Find outliers\n",
    "v14_outlier = [x for x in v14_1 if x < v14_low or x > v14_high]\n",
    "# Number of outliers for fraud case of v14:\n",
    "df_new.drop(df_new[(df_new['V14'] < v14_low) | (df_new['V14'] > v14_high)].index, inplace = True)\n",
    "\n",
    "print(f\"Number of outliers for fraud case of v14: {len(v14_outlier)}\")\n",
    "print(f\"Number of samples after drop: {len(df_new)}\")\n",
    "print(\"----\"*29)\n",
    "\n",
    "#find upper and lower range for each variable\n",
    "v12_1 = df_new['V12'].loc[df_new['Label'] == 1]\n",
    "q25, q75 = np.percentile(v12_1, 25), np.percentile(v12_1, 75)\n",
    "\n",
    "v12_cut_off = (q75 - q25) * 1.5\n",
    "v12_low = q25 - v12_cut_off \n",
    "v12_high = q75 + v12_cut_off\n",
    "\n",
    "print(f\"Cut off range for v12:  [{v12_low} to {v12_high}]\")\n",
    "# Find outliers\n",
    "v12_outlier = [x for x in v12_1 if x < v12_low or x > v12_high]\n",
    "# Number of outliers for fraud case of v12:\n",
    "df_new.drop(df_new[(df_new['V12'] < v12_low) | (df_new['V12'] > v12_high)].index, inplace = True)\n",
    "\n",
    "print(f\"Number of outliers for fraud case of v12: {len(v12_outlier)}\")\n",
    "print(f\"Number of samples after drop: {len(df_new)}\")\n",
    "print(\"----\"*29)\n",
    "\n",
    "#find upper and lower range for each variable\n",
    "v16_1 = df_new['V16'].loc[df_new['Label'] == 1]\n",
    "q25, q75 = np.percentile(v16_1, 25), np.percentile(v16_1, 75)\n",
    "\n",
    "v16_cut_off = (q75 - q25) * 1.5\n",
    "v16_low = q25 - v16_cut_off \n",
    "v16_high = q75 + v16_cut_off\n",
    "\n",
    "print(f\"Cut off range for v16:  [{v16_low} to {v16_high}]\")\n",
    "# Find outliers\n",
    "v16_outlier = [x for x in v16_1 if x < v16_low or x > v16_high]\n",
    "# Number of outliers for fraud case of v16:\n",
    "df_new.drop(df_new[(df_new['V16'] < v16_low) | (df_new['V16'] > v16_high)].index, inplace = True)\n",
    "\n",
    "print(f\"Number of outliers for fraud case of v12: {len(v16_outlier)}\")\n",
    "print(f\"Number of samples after drop: {len(df_new)}\")\n",
    "print(\"----\"*29)\n",
    "\n",
    "\n",
    "#find upper and lower range for each variable\n",
    "v4_1 = df_new['V4'].loc[df_new['Label'] == 1]\n",
    "q25, q75 = np.percentile(v4_1, 25), np.percentile(v4_1, 75)\n",
    "\n",
    "v4_cut_off = (q75 - q25) * 1.5\n",
    "v4_low = q25 - v4_cut_off \n",
    "v4_high = q75 + v4_cut_off\n",
    "\n",
    "print(f\"Cut off range for v4:  [{v4_low} to {v4_high}]\")\n",
    "# Find outliers\n",
    "v4_outlier = [x for x in v4_1 if x < v4_low or x > v4_high]\n",
    "print(v4_outlier)\n",
    "# Number of outliers for fraud case of v4:\n",
    "df_new.drop(df_new[(df_new['V4'] < v4_low) | (df_new['V4'] > v4_high)].index, inplace = True)\n",
    "\n",
    "print(f\"Number of outliers for fraud case of v4: {len(v4_outlier)}\")\n",
    "print(f\"Number of samples after drop: {len(df_new)}\")\n",
    "print(\"----\"*29)\n"
   ]
  },
  {
   "cell_type": "code",
   "execution_count": 502,
   "metadata": {},
   "outputs": [],
   "source": [
    "#Prepare new data to train\n",
    "X = df_new.drop('Label', axis=1)\n",
    "y = df_new['Label']\n",
    "X_train = X_train.values\n",
    "X_test = X_test.values\n",
    "y_train = y_train.values\n",
    "y_test = y_test.values"
   ]
  },
  {
   "cell_type": "code",
   "execution_count": 503,
   "metadata": {},
   "outputs": [],
   "source": [
    "from sklearn.linear_model import LogisticRegression\n",
    "from sklearn.svm import SVC\n",
    "from sklearn.neighbors import KNeighborsClassifier\n",
    "from sklearn.tree import DecisionTreeClassifier\n",
    "from sklearn.ensemble import RandomForestClassifier\n",
    "classifiers = {\n",
    "    \"LogisiticRegression\": LogisticRegression(max_iter = 1000000),\n",
    "    \"KNearest\": KNeighborsClassifier(),\n",
    "    \"Support Vector Classifier\": SVC(),\n",
    "    \"RandomForestClassifier\": RandomForestClassifier()\n",
    "}"
   ]
  },
  {
   "cell_type": "code",
   "execution_count": 510,
   "metadata": {},
   "outputs": [
    {
     "name": "stdout",
     "output_type": "stream",
     "text": [
      "Classifier: LogisticRegression\n",
      "  Accuracy: 0.95\n",
      "  Precision: 0.96\n",
      "  Recall: 0.95\n",
      "----------------------------------------\n",
      "Classifier: KNeighborsClassifier\n",
      "  Accuracy: 0.95\n",
      "  Precision: 0.95\n",
      "  Recall: 0.95\n",
      "----------------------------------------\n",
      "Classifier: SVC\n",
      "  Accuracy: 0.93\n",
      "  Precision: 0.94\n",
      "  Recall: 0.93\n",
      "----------------------------------------\n",
      "Classifier: RandomForestClassifier\n",
      "  Accuracy: 0.96\n",
      "  Precision: 0.96\n",
      "  Recall: 0.96\n",
      "----------------------------------------\n"
     ]
    }
   ],
   "source": [
    "from sklearn.model_selection import cross_validate\n",
    "from sklearn.metrics import make_scorer, accuracy_score, precision_score, recall_score\n",
    "\n",
    "# Define scoring metrics\n",
    "scoring = {\n",
    "    'accuracy': 'accuracy',\n",
    "    'precision': 'precision_weighted',\n",
    "    'recall': 'recall_weighted'\n",
    "}\n",
    "\n",
    "for key, classifier in classifiers.items():\n",
    "    # Perform cross-validation\n",
    "    scores = cross_validate(classifier, X_train, y_train, cv=5, scoring=scoring)\n",
    "    #print(scores)\n",
    "    # Calculate mean scores for each metric\n",
    "    mean_accuracy = scores['test_accuracy'].mean()\n",
    "    mean_precision = scores['test_precision'].mean()\n",
    "    mean_recall = scores['test_recall'].mean()\n",
    "    \n",
    "    # Print the results\n",
    "    print(f\"Classifier: {classifier.__class__.__name__}\")\n",
    "    print(f\"  Accuracy: {mean_accuracy:.2f}\")\n",
    "    print(f\"  Precision: {mean_precision:.2f}\")\n",
    "    print(f\"  Recall: {mean_recall:.2f}\")\n",
    "    print('-' * 40)"
   ]
  },
  {
   "cell_type": "code",
   "execution_count": 511,
   "metadata": {},
   "outputs": [
    {
     "name": "stdout",
     "output_type": "stream",
     "text": [
      "Classifier: LogisticRegression\n",
      "  Test Accuracy: 0.90\n",
      "  Test Precision: 0.91\n",
      "  Test Recall: 0.90\n",
      "----------------------------------------\n",
      "Classifier: KNeighborsClassifier\n",
      "  Test Accuracy: 0.91\n",
      "  Test Precision: 0.92\n",
      "  Test Recall: 0.91\n",
      "----------------------------------------\n",
      "Classifier: SVC\n",
      "  Test Accuracy: 0.92\n",
      "  Test Precision: 0.93\n",
      "  Test Recall: 0.92\n",
      "----------------------------------------\n",
      "Classifier: RandomForestClassifier\n",
      "  Test Accuracy: 0.95\n",
      "  Test Precision: 0.96\n",
      "  Test Recall: 0.95\n",
      "----------------------------------------\n"
     ]
    }
   ],
   "source": [
    "from sklearn.metrics import accuracy_score, precision_score, recall_score\n",
    "\n",
    "for key, classifier in classifiers.items():\n",
    "    # Train the classifier on the entire training set\n",
    "    classifier.fit(X_train, y_train)\n",
    "    \n",
    "    # Predict on the test set\n",
    "    y_pred = classifier.predict(X_test)\n",
    "    \n",
    "    # Evaluate the classifier on the test set\n",
    "    accuracy = accuracy_score(y_test, y_pred)\n",
    "    precision = precision_score(y_test, y_pred, average='weighted')\n",
    "    recall = recall_score(y_test, y_pred, average='weighted')\n",
    "    \n",
    "    # Print the results\n",
    "    print(f\"Classifier: {classifier.__class__.__name__}\")\n",
    "    print(f\"  Test Accuracy: {accuracy:.2f}\")\n",
    "    print(f\"  Test Precision: {precision:.2f}\")\n",
    "    print(f\"  Test Recall: {recall:.2f}\")\n",
    "    print('-' * 40)"
   ]
  },
  {
   "cell_type": "markdown",
   "metadata": {},
   "source": [
    "- We achive really high Test score for RandomForest Classifer !"
   ]
  },
  {
   "cell_type": "code",
   "execution_count": null,
   "metadata": {},
   "outputs": [],
   "source": []
  }
 ],
 "metadata": {
  "kernelspec": {
   "display_name": "base",
   "language": "python",
   "name": "python3"
  },
  "language_info": {
   "codemirror_mode": {
    "name": "ipython",
    "version": 3
   },
   "file_extension": ".py",
   "mimetype": "text/x-python",
   "name": "python",
   "nbconvert_exporter": "python",
   "pygments_lexer": "ipython3",
   "version": "3.7.3"
  },
  "orig_nbformat": 4
 },
 "nbformat": 4,
 "nbformat_minor": 2
}
